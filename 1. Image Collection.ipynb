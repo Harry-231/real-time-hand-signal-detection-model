{
 "cells": [
  {
   "cell_type": "markdown",
   "metadata": {},
   "source": [
    "# 1. Import Dependencies"
   ]
  },
  {
   "cell_type": "code",
   "execution_count": 1,
   "metadata": {},
   "outputs": [
    {
     "name": "stdout",
     "output_type": "stream",
     "text": [
      "Collecting opencv-python\n",
      "  Obtaining dependency information for opencv-python from https://files.pythonhosted.org/packages/38/d2/3e8c13ffc37ca5ebc6f382b242b44acb43eb489042e1728407ac3904e72f/opencv_python-4.8.1.78-cp37-abi3-win_amd64.whl.metadata\n",
      "  Using cached opencv_python-4.8.1.78-cp37-abi3-win_amd64.whl.metadata (20 kB)\n",
      "Collecting numpy>=1.21.2 (from opencv-python)\n",
      "  Obtaining dependency information for numpy>=1.21.2 from https://files.pythonhosted.org/packages/cc/05/ef9fc04adda45d537619ea956bc33489f50a46badc949c4280d8309185ec/numpy-1.26.0-cp310-cp310-win_amd64.whl.metadata\n",
      "  Downloading numpy-1.26.0-cp310-cp310-win_amd64.whl.metadata (61 kB)\n",
      "     ---------------------------------------- 0.0/61.1 kB ? eta -:--:--\n",
      "     --------------------------------- ------ 51.2/61.1 kB 2.6 MB/s eta 0:00:01\n",
      "     --------------------------------- ------ 51.2/61.1 kB 2.6 MB/s eta 0:00:01\n",
      "     -------------------------------------- 61.1/61.1 kB 540.9 kB/s eta 0:00:00\n",
      "Using cached opencv_python-4.8.1.78-cp37-abi3-win_amd64.whl (38.1 MB)\n",
      "Downloading numpy-1.26.0-cp310-cp310-win_amd64.whl (15.8 MB)\n",
      "   ---------------------------------------- 0.0/15.8 MB ? eta -:--:--\n",
      "   ---------------------------------------- 0.2/15.8 MB 4.6 MB/s eta 0:00:04\n",
      "    --------------------------------------- 0.3/15.8 MB 4.5 MB/s eta 0:00:04\n",
      "   - -------------------------------------- 0.5/15.8 MB 3.8 MB/s eta 0:00:05\n",
      "   --- ------------------------------------ 1.3/15.8 MB 7.1 MB/s eta 0:00:03\n",
      "   ----- ---------------------------------- 2.2/15.8 MB 9.1 MB/s eta 0:00:02\n",
      "   -------- ------------------------------- 3.4/15.8 MB 12.1 MB/s eta 0:00:02\n",
      "   ----------- ---------------------------- 4.7/15.8 MB 14.4 MB/s eta 0:00:01\n",
      "   ------------- -------------------------- 5.2/15.8 MB 13.9 MB/s eta 0:00:01\n",
      "   -------------- ------------------------- 5.6/15.8 MB 14.8 MB/s eta 0:00:01\n",
      "   ---------------- ----------------------- 6.3/15.8 MB 13.4 MB/s eta 0:00:01\n",
      "   ------------------ --------------------- 7.4/15.8 MB 14.3 MB/s eta 0:00:01\n",
      "   ---------------------- ----------------- 8.7/15.8 MB 15.5 MB/s eta 0:00:01\n",
      "   ------------------------- -------------- 10.2/15.8 MB 16.7 MB/s eta 0:00:01\n",
      "   ---------------------------- ----------- 11.2/15.8 MB 21.9 MB/s eta 0:00:01\n",
      "   -------------------------------- ------- 12.8/15.8 MB 22.6 MB/s eta 0:00:01\n",
      "   --------------------------------- ------ 13.2/15.8 MB 22.5 MB/s eta 0:00:01\n",
      "   ---------------------------------------  15.4/15.8 MB 25.2 MB/s eta 0:00:01\n",
      "   ---------------------------------------- 15.8/15.8 MB 26.1 MB/s eta 0:00:00\n",
      "Installing collected packages: numpy, opencv-python\n",
      "Successfully installed numpy-1.26.0 opencv-python-4.8.1.78\n"
     ]
    }
   ],
   "source": [
    "!pip install opencv-python"
   ]
  },
  {
   "cell_type": "code",
   "execution_count": 2,
   "metadata": {},
   "outputs": [],
   "source": [
    "# Import opencv\n",
    "import cv2 \n",
    "\n",
    "# Import uuid\n",
    "import uuid\n",
    "\n",
    "# Import Operating System\n",
    "import os\n",
    "\n",
    "# Import time\n",
    "import time"
   ]
  },
  {
   "cell_type": "markdown",
   "metadata": {},
   "source": [
    "# 2. Define Images to Collect"
   ]
  },
  {
   "cell_type": "code",
   "execution_count": 3,
   "metadata": {},
   "outputs": [],
   "source": [
    "labels = ['thumbsup', 'thumbsdown', 'thankyou', 'livelong']\n",
    "number_imgs = 5"
   ]
  },
  {
   "cell_type": "markdown",
   "metadata": {},
   "source": [
    "# 3. Setup Folders "
   ]
  },
  {
   "cell_type": "code",
   "execution_count": 4,
   "metadata": {},
   "outputs": [],
   "source": [
    "IMAGES_PATH = os.path.join('Tensorflow', 'workspace', 'images', 'collectedimages')"
   ]
  },
  {
   "cell_type": "code",
   "execution_count": 5,
   "metadata": {},
   "outputs": [],
   "source": [
    "if not os.path.exists(IMAGES_PATH):\n",
    "    if os.name == 'posix':\n",
    "        !mkdir -p {IMAGES_PATH}\n",
    "    if os.name == 'nt':\n",
    "         !mkdir {IMAGES_PATH}\n",
    "for label in labels:\n",
    "    path = os.path.join(IMAGES_PATH, label)\n",
    "    if not os.path.exists(path):\n",
    "        !mkdir {path}"
   ]
  },
  {
   "cell_type": "markdown",
   "metadata": {},
   "source": [
    "# 4. Capture Images"
   ]
  },
  {
   "cell_type": "code",
   "execution_count": 6,
   "metadata": {},
   "outputs": [
    {
     "name": "stdout",
     "output_type": "stream",
     "text": [
      "Collecting images for thumbsup\n",
      "Collecting image 0\n",
      "Collecting image 1\n",
      "Collecting image 2\n",
      "Collecting image 3\n",
      "Collecting image 4\n",
      "Collecting images for thumbsdown\n",
      "Collecting image 0\n",
      "Collecting image 1\n",
      "Collecting image 2\n",
      "Collecting image 3\n",
      "Collecting image 4\n",
      "Collecting images for thankyou\n",
      "Collecting image 0\n",
      "Collecting image 1\n",
      "Collecting image 2\n",
      "Collecting image 3\n",
      "Collecting image 4\n",
      "Collecting images for livelong\n",
      "Collecting image 0\n",
      "Collecting image 1\n",
      "Collecting image 2\n",
      "Collecting image 3\n",
      "Collecting image 4\n"
     ]
    }
   ],
   "source": [
    "for label in labels:\n",
    "    cap = cv2.VideoCapture(0)\n",
    "    print('Collecting images for {}'.format(label))\n",
    "    time.sleep(5)\n",
    "    for imgnum in range(number_imgs):\n",
    "        print('Collecting image {}'.format(imgnum))\n",
    "        ret, frame = cap.read()\n",
    "        imgname = os.path.join(IMAGES_PATH,label,label+'.'+'{}.jpg'.format(str(uuid.uuid1())))\n",
    "        cv2.imwrite(imgname, frame)\n",
    "        cv2.imshow('frame', frame)\n",
    "        time.sleep(2)\n",
    "\n",
    "        if cv2.waitKey(1) & 0xFF == ord('q'):\n",
    "            break\n",
    "cap.release()\n",
    "cv2.destroyAllWindows()"
   ]
  },
  {
   "cell_type": "markdown",
   "metadata": {},
   "source": [
    "# 5. Image Labelling"
   ]
  },
  {
   "cell_type": "code",
   "execution_count": 7,
   "metadata": {},
   "outputs": [
    {
     "name": "stdout",
     "output_type": "stream",
     "text": [
      "Collecting pyqt5\n",
      "  Using cached PyQt5-5.15.9-cp37-abi3-win_amd64.whl (6.8 MB)\n",
      "Collecting lxml\n",
      "  Obtaining dependency information for lxml from https://files.pythonhosted.org/packages/50/ba/cb7bc9728a3be4e00dfd658fc76dc64fd9dbc3d5492ff44cda70574329c6/lxml-4.9.3-cp310-cp310-win_amd64.whl.metadata\n",
      "  Downloading lxml-4.9.3-cp310-cp310-win_amd64.whl.metadata (3.9 kB)\n",
      "Collecting PyQt5-sip<13,>=12.11 (from pyqt5)\n",
      "  Obtaining dependency information for PyQt5-sip<13,>=12.11 from https://files.pythonhosted.org/packages/9e/d1/2865085040c7bc553298553f51d6ac46b5051481b5c3eb8aad4bb5b63497/PyQt5_sip-12.12.2-cp310-cp310-win_amd64.whl.metadata\n",
      "  Downloading PyQt5_sip-12.12.2-cp310-cp310-win_amd64.whl.metadata (524 bytes)\n",
      "Collecting PyQt5-Qt5>=5.15.2 (from pyqt5)\n",
      "  Using cached PyQt5_Qt5-5.15.2-py3-none-win_amd64.whl (50.1 MB)\n",
      "Downloading lxml-4.9.3-cp310-cp310-win_amd64.whl (3.8 MB)\n",
      "   ---------------------------------------- 0.0/3.8 MB ? eta -:--:--\n",
      "   ---------------------------------------- 0.0/3.8 MB 640.0 kB/s eta 0:00:06\n",
      "    --------------------------------------- 0.1/3.8 MB 1.0 MB/s eta 0:00:04\n",
      "   - -------------------------------------- 0.1/3.8 MB 1.2 MB/s eta 0:00:04\n",
      "   -- ------------------------------------- 0.2/3.8 MB 1.1 MB/s eta 0:00:04\n",
      "   -- ------------------------------------- 0.3/3.8 MB 1.2 MB/s eta 0:00:03\n",
      "   --- ------------------------------------ 0.3/3.8 MB 1.2 MB/s eta 0:00:03\n",
      "   ---- ----------------------------------- 0.4/3.8 MB 1.3 MB/s eta 0:00:03\n",
      "   ---- ----------------------------------- 0.4/3.8 MB 1.3 MB/s eta 0:00:03\n",
      "   ----- ---------------------------------- 0.5/3.8 MB 1.3 MB/s eta 0:00:03\n",
      "   ------ --------------------------------- 0.6/3.8 MB 1.3 MB/s eta 0:00:03\n",
      "   ------ --------------------------------- 0.6/3.8 MB 1.3 MB/s eta 0:00:03\n",
      "   ------- -------------------------------- 0.7/3.8 MB 1.3 MB/s eta 0:00:03\n",
      "   ------- -------------------------------- 0.7/3.8 MB 1.3 MB/s eta 0:00:03\n",
      "   -------- ------------------------------- 0.8/3.8 MB 1.2 MB/s eta 0:00:03\n",
      "   -------- ------------------------------- 0.8/3.8 MB 1.3 MB/s eta 0:00:03\n",
      "   --------- ------------------------------ 0.9/3.8 MB 1.2 MB/s eta 0:00:03\n",
      "   --------- ------------------------------ 0.9/3.8 MB 1.2 MB/s eta 0:00:03\n",
      "   ---------- ----------------------------- 1.0/3.8 MB 1.2 MB/s eta 0:00:03\n",
      "   ---------- ----------------------------- 1.0/3.8 MB 1.2 MB/s eta 0:00:03\n",
      "   ----------- ---------------------------- 1.1/3.8 MB 1.2 MB/s eta 0:00:03\n",
      "   ----------- ---------------------------- 1.1/3.8 MB 1.1 MB/s eta 0:00:03\n",
      "   ------------ --------------------------- 1.2/3.8 MB 1.1 MB/s eta 0:00:03\n",
      "   ------------ --------------------------- 1.2/3.8 MB 1.1 MB/s eta 0:00:03\n",
      "   ------------- -------------------------- 1.2/3.8 MB 1.1 MB/s eta 0:00:03\n",
      "   ------------- -------------------------- 1.2/3.8 MB 1.1 MB/s eta 0:00:03\n",
      "   -------------- ------------------------- 1.4/3.8 MB 1.2 MB/s eta 0:00:03\n",
      "   --------------- ------------------------ 1.5/3.8 MB 1.2 MB/s eta 0:00:02\n",
      "   ---------------- ----------------------- 1.6/3.8 MB 1.2 MB/s eta 0:00:02\n",
      "   ---------------- ----------------------- 1.6/3.8 MB 1.2 MB/s eta 0:00:02\n",
      "   ----------------- ---------------------- 1.6/3.8 MB 1.2 MB/s eta 0:00:02\n",
      "   ----------------- ---------------------- 1.7/3.8 MB 1.2 MB/s eta 0:00:02\n",
      "   ------------------ --------------------- 1.7/3.8 MB 1.2 MB/s eta 0:00:02\n",
      "   ------------------ --------------------- 1.8/3.8 MB 1.2 MB/s eta 0:00:02\n",
      "   ------------------- -------------------- 1.8/3.8 MB 1.2 MB/s eta 0:00:02\n",
      "   ------------------- -------------------- 1.9/3.8 MB 1.2 MB/s eta 0:00:02\n",
      "   -------------------- ------------------- 1.9/3.8 MB 1.2 MB/s eta 0:00:02\n",
      "   -------------------- ------------------- 2.0/3.8 MB 1.2 MB/s eta 0:00:02\n",
      "   --------------------- ------------------ 2.0/3.8 MB 1.1 MB/s eta 0:00:02\n",
      "   --------------------- ------------------ 2.0/3.8 MB 1.1 MB/s eta 0:00:02\n",
      "   --------------------- ------------------ 2.1/3.8 MB 1.1 MB/s eta 0:00:02\n",
      "   ---------------------- ----------------- 2.2/3.8 MB 1.1 MB/s eta 0:00:02\n",
      "   ----------------------- ---------------- 2.2/3.8 MB 1.1 MB/s eta 0:00:02\n",
      "   ----------------------- ---------------- 2.2/3.8 MB 1.1 MB/s eta 0:00:02\n",
      "   ------------------------ --------------- 2.3/3.8 MB 1.1 MB/s eta 0:00:02\n",
      "   ------------------------ --------------- 2.3/3.8 MB 1.1 MB/s eta 0:00:02\n",
      "   ------------------------- -------------- 2.4/3.8 MB 1.1 MB/s eta 0:00:02\n",
      "   ------------------------- -------------- 2.5/3.8 MB 1.1 MB/s eta 0:00:02\n",
      "   -------------------------- ------------- 2.5/3.8 MB 1.1 MB/s eta 0:00:02\n",
      "   --------------------------- ------------ 2.6/3.8 MB 1.2 MB/s eta 0:00:02\n",
      "   ---------------------------- ----------- 2.7/3.8 MB 1.2 MB/s eta 0:00:01\n",
      "   ---------------------------- ----------- 2.7/3.8 MB 1.2 MB/s eta 0:00:01\n",
      "   ----------------------------- ---------- 2.8/3.8 MB 1.2 MB/s eta 0:00:01\n",
      "   ------------------------------ --------- 2.9/3.8 MB 1.2 MB/s eta 0:00:01\n",
      "   ------------------------------ --------- 2.9/3.8 MB 1.2 MB/s eta 0:00:01\n",
      "   ------------------------------- -------- 3.0/3.8 MB 1.2 MB/s eta 0:00:01\n",
      "   -------------------------------- ------- 3.0/3.8 MB 1.2 MB/s eta 0:00:01\n",
      "   -------------------------------- ------- 3.1/3.8 MB 1.2 MB/s eta 0:00:01\n",
      "   --------------------------------- ------ 3.2/3.8 MB 1.2 MB/s eta 0:00:01\n",
      "   ---------------------------------- ----- 3.2/3.8 MB 1.2 MB/s eta 0:00:01\n",
      "   ---------------------------------- ----- 3.3/3.8 MB 1.2 MB/s eta 0:00:01\n",
      "   ----------------------------------- ---- 3.4/3.8 MB 1.2 MB/s eta 0:00:01\n",
      "   ------------------------------------ --- 3.4/3.8 MB 1.2 MB/s eta 0:00:01\n",
      "   ------------------------------------ --- 3.5/3.8 MB 1.2 MB/s eta 0:00:01\n",
      "   ------------------------------------- -- 3.6/3.8 MB 1.2 MB/s eta 0:00:01\n",
      "   -------------------------------------- - 3.6/3.8 MB 1.2 MB/s eta 0:00:01\n",
      "   ---------------------------------------  3.7/3.8 MB 1.2 MB/s eta 0:00:01\n",
      "   ---------------------------------------  3.8/3.8 MB 1.2 MB/s eta 0:00:01\n",
      "   ---------------------------------------- 3.8/3.8 MB 1.2 MB/s eta 0:00:00\n",
      "Downloading PyQt5_sip-12.12.2-cp310-cp310-win_amd64.whl (78 kB)\n",
      "   ---------------------------------------- 0.0/78.4 kB ? eta -:--:--\n",
      "   ------------------------------- -------- 61.4/78.4 kB 1.7 MB/s eta 0:00:01\n",
      "   ---------------------------------------- 78.4/78.4 kB 1.4 MB/s eta 0:00:00\n",
      "Installing collected packages: PyQt5-Qt5, PyQt5-sip, lxml, pyqt5\n",
      "Successfully installed PyQt5-Qt5-5.15.2 PyQt5-sip-12.12.2 lxml-4.9.3 pyqt5-5.15.9\n"
     ]
    }
   ],
   "source": [
    "!pip install --upgrade pyqt5 lxml"
   ]
  },
  {
   "cell_type": "code",
   "execution_count": 8,
   "metadata": {},
   "outputs": [],
   "source": [
    "LABELIMG_PATH = os.path.join('Tensorflow', 'labelimg')"
   ]
  },
  {
   "cell_type": "code",
   "execution_count": 9,
   "metadata": {},
   "outputs": [
    {
     "name": "stderr",
     "output_type": "stream",
     "text": [
      "Cloning into 'Tensorflow\\labelimg'...\n"
     ]
    }
   ],
   "source": [
    "if not os.path.exists(LABELIMG_PATH):\n",
    "    !mkdir {LABELIMG_PATH}\n",
    "    !git clone https://github.com/tzutalin/labelImg {LABELIMG_PATH}"
   ]
  },
  {
   "cell_type": "code",
   "execution_count": 10,
   "metadata": {},
   "outputs": [],
   "source": [
    "if os.name == 'posix':\n",
    "    !make qt5py3\n",
    "if os.name =='nt':\n",
    "    !cd {LABELIMG_PATH} && pyrcc5 -o libs/resources.py resources.qrc"
   ]
  },
  {
   "cell_type": "code",
   "execution_count": 12,
   "metadata": {},
   "outputs": [
    {
     "name": "stdout",
     "output_type": "stream",
     "text": [
      "Cancel creation.\n",
      "Image:D:\\object_detection\\TFODCourse\\Tensorflow\\workspace\\images\\collectedimages\\livelong\\livelong.b6cc83b7-6418-11ee-a87f-60e32babe7d9.jpg -> Annotation:D:/object_detection/TFODCourse/Tensorflow/workspace/images/collectedimages/livelong\\livelong.b6cc83b7-6418-11ee-a87f-60e32babe7d9.xml\n",
      "Image:D:\\object_detection\\TFODCourse\\Tensorflow\\workspace\\images\\collectedimages\\livelong\\livelong.b937c3c7-6418-11ee-bf68-60e32babe7d9.jpg -> Annotation:D:/object_detection/TFODCourse/Tensorflow/workspace/images/collectedimages/livelong\\livelong.b937c3c7-6418-11ee-bf68-60e32babe7d9.xml\n",
      "Image:D:\\object_detection\\TFODCourse\\Tensorflow\\workspace\\images\\collectedimages\\livelong\\livelong.b5967f85-6418-11ee-9b47-60e32babe7d9.jpg -> Annotation:D:/object_detection/TFODCourse/Tensorflow/workspace/images/collectedimages/livelong\\livelong.b5967f85-6418-11ee-9b47-60e32babe7d9.xml\n",
      "Image:D:\\object_detection\\TFODCourse\\Tensorflow\\workspace\\images\\collectedimages\\livelong\\livelong.b802313c-6418-11ee-af38-60e32babe7d9.jpg -> Annotation:D:/object_detection/TFODCourse/Tensorflow/workspace/images/collectedimages/livelong\\livelong.b802313c-6418-11ee-af38-60e32babe7d9.xml\n",
      "Image:D:\\object_detection\\TFODCourse\\Tensorflow\\workspace\\images\\collectedimages\\livelong\\livelong.b4608728-6418-11ee-bce6-60e32babe7d9.jpg -> Annotation:D:/object_detection/TFODCourse/Tensorflow/workspace/images/collectedimages/livelong\\livelong.b4608728-6418-11ee-bce6-60e32babe7d9.xml\n",
      "Image:D:\\object_detection\\TFODCourse\\Tensorflow\\workspace\\images\\collectedimages\\thankyou\\thankyou.a9622b09-6418-11ee-95b1-60e32babe7d9.jpg -> Annotation:D:/object_detection/TFODCourse/Tensorflow/workspace/images/collectedimages/thankyou\\thankyou.a9622b09-6418-11ee-95b1-60e32babe7d9.xml\n",
      "Image:D:\\object_detection\\TFODCourse\\Tensorflow\\workspace\\images\\collectedimages\\thankyou\\thankyou.aa987fcf-6418-11ee-9ecb-60e32babe7d9.jpg -> Annotation:D:/object_detection/TFODCourse/Tensorflow/workspace/images/collectedimages/thankyou\\thankyou.aa987fcf-6418-11ee-9ecb-60e32babe7d9.xml\n",
      "Cancel creation.\n",
      "Image:D:\\object_detection\\TFODCourse\\Tensorflow\\workspace\\images\\collectedimages\\thankyou\\thankyou.abcd43dc-6418-11ee-9c1e-60e32babe7d9.jpg -> Annotation:D:/object_detection/TFODCourse/Tensorflow/workspace/images/collectedimages/thankyou\\thankyou.abcd43dc-6418-11ee-9c1e-60e32babe7d9.xml\n",
      "Image:D:\\object_detection\\TFODCourse\\Tensorflow\\workspace\\images\\collectedimages\\thankyou\\thankyou.ad02f893-6418-11ee-b5ee-60e32babe7d9.jpg -> Annotation:D:/object_detection/TFODCourse/Tensorflow/workspace/images/collectedimages/thankyou\\thankyou.ad02f893-6418-11ee-b5ee-60e32babe7d9.xml\n",
      "Cancel creation.\n",
      "Image:D:\\object_detection\\TFODCourse\\Tensorflow\\workspace\\images\\collectedimages\\thankyou\\thankyou.ae3a3b68-6418-11ee-9393-60e32babe7d9.jpg -> Annotation:D:/object_detection/TFODCourse/Tensorflow/workspace/images/collectedimages/thankyou\\thankyou.ae3a3b68-6418-11ee-9393-60e32babe7d9.xml\n",
      "Image:D:\\object_detection\\TFODCourse\\Tensorflow\\workspace\\images\\collectedimages\\thumbsdown\\thumbsdown.9e5b78b9-6418-11ee-954e-60e32babe7d9.jpg -> Annotation:D:/object_detection/TFODCourse/Tensorflow/workspace/images/collectedimages/thumbsdown\\thumbsdown.9e5b78b9-6418-11ee-954e-60e32babe7d9.xml\n",
      "Image:D:\\object_detection\\TFODCourse\\Tensorflow\\workspace\\images\\collectedimages\\thumbsdown\\thumbsdown.9f930b08-6418-11ee-ba6e-60e32babe7d9.jpg -> Annotation:D:/object_detection/TFODCourse/Tensorflow/workspace/images/collectedimages/thumbsdown\\thumbsdown.9f930b08-6418-11ee-ba6e-60e32babe7d9.xml\n",
      "Image:D:\\object_detection\\TFODCourse\\Tensorflow\\workspace\\images\\collectedimages\\thumbsdown\\thumbsdown.a0c917d6-6418-11ee-82b4-60e32babe7d9.jpg -> Annotation:D:/object_detection/TFODCourse/Tensorflow/workspace/images/collectedimages/thumbsdown\\thumbsdown.a0c917d6-6418-11ee-82b4-60e32babe7d9.xml\n",
      "Image:D:\\object_detection\\TFODCourse\\Tensorflow\\workspace\\images\\collectedimages\\thumbsdown\\thumbsdown.a1fe4eda-6418-11ee-99b4-60e32babe7d9.jpg -> Annotation:D:/object_detection/TFODCourse/Tensorflow/workspace/images/collectedimages/thumbsdown\\thumbsdown.a1fe4eda-6418-11ee-99b4-60e32babe7d9.xml\n",
      "Image:D:\\object_detection\\TFODCourse\\Tensorflow\\workspace\\images\\collectedimages\\thumbsdown\\thumbsdown.a333340c-6418-11ee-aa59-60e32babe7d9.jpg -> Annotation:D:/object_detection/TFODCourse/Tensorflow/workspace/images/collectedimages/thumbsdown\\thumbsdown.a333340c-6418-11ee-aa59-60e32babe7d9.xml\n",
      "Image:D:\\object_detection\\TFODCourse\\Tensorflow\\workspace\\images\\collectedimages\\thumbsup\\thumbsup.92f22df7-6418-11ee-bf40-60e32babe7d9.jpg -> Annotation:D:/object_detection/TFODCourse/Tensorflow/workspace/images/collectedimages/thumbsup\\thumbsup.92f22df7-6418-11ee-bf40-60e32babe7d9.xml\n",
      "Image:D:\\object_detection\\TFODCourse\\Tensorflow\\workspace\\images\\collectedimages\\thumbsup\\thumbsup.96ba047b-6418-11ee-b915-60e32babe7d9.jpg -> Annotation:D:/object_detection/TFODCourse/Tensorflow/workspace/images/collectedimages/thumbsup\\thumbsup.96ba047b-6418-11ee-b915-60e32babe7d9.xml\n",
      "Image:D:\\object_detection\\TFODCourse\\Tensorflow\\workspace\\images\\collectedimages\\thumbsup\\thumbsup.97ee1ed3-6418-11ee-a042-60e32babe7d9.jpg -> Annotation:D:/object_detection/TFODCourse/Tensorflow/workspace/images/collectedimages/thumbsup\\thumbsup.97ee1ed3-6418-11ee-a042-60e32babe7d9.xml\n",
      "Image:D:\\object_detection\\TFODCourse\\Tensorflow\\workspace\\images\\collectedimages\\thumbsup\\thumbsup.94449f50-6418-11ee-81f4-60e32babe7d9.jpg -> Annotation:D:/object_detection/TFODCourse/Tensorflow/workspace/images/collectedimages/thumbsup\\thumbsup.94449f50-6418-11ee-81f4-60e32babe7d9.xml\n",
      "Image:D:\\object_detection\\TFODCourse\\Tensorflow\\workspace\\images\\collectedimages\\thumbsup\\thumbsup.95836f49-6418-11ee-97c6-60e32babe7d9.jpg -> Annotation:D:/object_detection/TFODCourse/Tensorflow/workspace/images/collectedimages/thumbsup\\thumbsup.95836f49-6418-11ee-97c6-60e32babe7d9.xml\n"
     ]
    },
    {
     "name": "stderr",
     "output_type": "stream",
     "text": [
      "Warning: QT_DEVICE_PIXEL_RATIO is deprecated. Instead use:\n",
      "   QT_AUTO_SCREEN_SCALE_FACTOR to enable platform plugin controlled per-screen factors.\n",
      "   QT_SCREEN_SCALE_FACTORS to set per-screen DPI.\n",
      "   QT_SCALE_FACTOR to set the application global scale factor.\n"
     ]
    }
   ],
   "source": [
    "!cd {LABELIMG_PATH} && python labelImg.py"
   ]
  },
  {
   "cell_type": "markdown",
   "metadata": {},
   "source": [
    "# 6. Move them into a Training and Testing Partition"
   ]
  },
  {
   "cell_type": "markdown",
   "metadata": {},
   "source": [
    "# OPTIONAL - 7. Compress them for Colab Training"
   ]
  },
  {
   "cell_type": "code",
   "execution_count": 20,
   "metadata": {},
   "outputs": [],
   "source": [
    "TRAIN_PATH = os.path.join('Tensorflow', 'workspace', 'images', 'train')\n",
    "TEST_PATH = os.path.join('Tensorflow', 'workspace', 'images', 'test')\n",
    "ARCHIVE_PATH = os.path.join('Tensorflow', 'workspace', 'images', 'archive.tar.gz')"
   ]
  },
  {
   "cell_type": "code",
   "execution_count": 21,
   "metadata": {},
   "outputs": [],
   "source": [
    "!tar -czf {ARCHIVE_PATH} {TRAIN_PATH} {TEST_PATH}"
   ]
  },
  {
   "cell_type": "code",
   "execution_count": null,
   "metadata": {},
   "outputs": [],
   "source": []
  }
 ],
 "metadata": {
  "kernelspec": {
   "display_name": "tfod1",
   "language": "python",
   "name": "tfod1"
  },
  "language_info": {
   "codemirror_mode": {
    "name": "ipython",
    "version": 3
   },
   "file_extension": ".py",
   "mimetype": "text/x-python",
   "name": "python",
   "nbconvert_exporter": "python",
   "pygments_lexer": "ipython3",
   "version": "3.10.9"
  }
 },
 "nbformat": 4,
 "nbformat_minor": 2
}
